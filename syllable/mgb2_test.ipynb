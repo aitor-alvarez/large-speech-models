{
 "cells": [
  {
   "cell_type": "code",
   "execution_count": 79,
   "metadata": {},
   "outputs": [],
   "source": [
    "import mishkal.tashkeel\n",
    "from datasets import load_dataset, Dataset\n",
    "import pandas as pd\n",
    "\n",
    "vocalizer = mishkal.tashkeel.TashkeelClass()"
   ]
  },
  {
   "cell_type": "code",
   "execution_count": 80,
   "metadata": {},
   "outputs": [],
   "source": [
    "p = \"/Users/esissa/Desktop/mgb2_test/text.all\""
   ]
  },
  {
   "cell_type": "code",
   "execution_count": 81,
   "metadata": {},
   "outputs": [
    {
     "data": {
      "text/plain": [
       "Dataset({\n",
       "    features: ['audio', 'text'],\n",
       "    num_rows: 5655\n",
       "})"
      ]
     },
     "execution_count": 81,
     "metadata": {},
     "output_type": "execute_result"
    }
   ],
   "source": [
    "f = open(p, \"r\")\n",
    "f = f.readlines()\n",
    "\n",
    "x = [line.split(\" \", 1) for line in f]\n",
    "\n",
    "d = {line[0]:line[1] for line in x}\n",
    "df = pd.DataFrame(list(d.items()), columns=['audio', 'text'])\n",
    "hf = Dataset.from_pandas(df)\n",
    "hf\n",
    "\n"
   ]
  },
  {
   "cell_type": "code",
   "execution_count": 82,
   "metadata": {},
   "outputs": [],
   "source": [
    "def vocalize(batch):\n",
    "    batch['vocalized_text'] = vocalizer.tashkeel(batch['text'])\n",
    "    return batch"
   ]
  },
  {
   "cell_type": "code",
   "execution_count": 83,
   "metadata": {},
   "outputs": [
    {
     "name": "stderr",
     "output_type": "stream",
     "text": [
      "Map: 100%|██████████| 5655/5655 [01:37<00:00, 58.01 examples/s]\n"
     ]
    },
    {
     "data": {
      "text/plain": [
       "Dataset({\n",
       "    features: ['audio', 'text', 'vocalized_text'],\n",
       "    num_rows: 5655\n",
       "})"
      ]
     },
     "execution_count": 83,
     "metadata": {},
     "output_type": "execute_result"
    }
   ],
   "source": [
    "hf = hf.map(vocalize)\n",
    "hf"
   ]
  },
  {
   "cell_type": "code",
   "execution_count": 84,
   "metadata": {},
   "outputs": [
    {
     "data": {
      "text/plain": [
       "{'audio': '03BD00C0-2C0B-4C81-BA8C-018175D0B4E3_spk-0001_seg-0001671:0002252',\n",
       " 'text': 'أهلا بكم مشاهدينا الكرام في حلقة جديدة من برنامج الاقتصاد والناس موضوع حلقتنا لهذا اليوم\\n',\n",
       " 'vocalized_text': ' أهْلًا بِكَم مُشَاهِدِينَا الْكِرَامِ فِي حَلْقَةِ جَديدَةٍ مِن بَرْنَامَجِ الْاِقْتِصَادِ وَالنَّاسِ مَوْضُوعَ حَلْقَتِنَا لهَذَا الْيَوْمِ \\n'}"
      ]
     },
     "execution_count": 84,
     "metadata": {},
     "output_type": "execute_result"
    }
   ],
   "source": [
    "hf[0]"
   ]
  },
  {
   "cell_type": "markdown",
   "metadata": {},
   "source": [
    "# Arabic Diacritics"
   ]
  },
  {
   "cell_type": "code",
   "execution_count": 77,
   "metadata": {},
   "outputs": [],
   "source": [
    "short_vowels = [\"َ\", \"ِ\", \"ُ\"]\n",
    "long_vowels = [\"ا\", \"و\", \"ي\"]\n",
    "sukun = \"ْ\"\n",
    "shadda = \"ّ\"\n",
    "tanween = [\"ً\", \"ٍ\", \"ٌ\"]\n"
   ]
  },
  {
   "cell_type": "markdown",
   "metadata": {},
   "source": [
    "# Arabic Diacritics (unicode)"
   ]
  },
  {
   "cell_type": "code",
   "execution_count": 78,
   "metadata": {},
   "outputs": [],
   "source": [
    "short_vowels = [\"\\u0618\", \"\\u061A\", \"\\u0619\"]\n",
    "long_vowels = [\"\\u0627\", \"\\u064A\", \"\\u0648\"]\n",
    "sukun = \"\\u0652\"\n",
    "shadda = \"\\u0651\"\n",
    "tanween = [\"\\u064B\", \"\\u064D\", \"\\u064C\"]\n"
   ]
  },
  {
   "cell_type": "code",
   "execution_count": null,
   "metadata": {},
   "outputs": [],
   "source": []
  }
 ],
 "metadata": {
  "kernelspec": {
   "display_name": "pro",
   "language": "python",
   "name": "python3"
  },
  "language_info": {
   "codemirror_mode": {
    "name": "ipython",
    "version": 3
   },
   "file_extension": ".py",
   "mimetype": "text/x-python",
   "name": "python",
   "nbconvert_exporter": "python",
   "pygments_lexer": "ipython3",
   "version": "3.8.17"
  }
 },
 "nbformat": 4,
 "nbformat_minor": 2
}
